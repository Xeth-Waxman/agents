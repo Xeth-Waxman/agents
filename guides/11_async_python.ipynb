{
 "cells": [
  {
   "cell_type": "markdown",
   "id": "5c291475-8c7c-461c-9b12-545a887b2432",
   "metadata": {},
   "source": [
    "# Async Python\n",
    "\n",
    "## A briefing on asynchronous python coding, essential in Agent engineering"
   ]
  },
  {
   "cell_type": "markdown",
   "id": "538fa044",
   "metadata": {},
   "source": [
    "Here is a masterful tutorial by you-know-who with exercises and comparisons.\n",
    "\n",
    "https://chatgpt.com/share/680648b1-b0a0-8012-8449-4f90b540886c\n",
    "\n",
    "This includes how to run async code from a python module.\n",
    "\n",
    "### And now some examples:"
   ]
  },
  {
   "cell_type": "code",
   "execution_count": 9,
   "id": "09f5662a",
   "metadata": {},
   "outputs": [],
   "source": [
    "# Let's define an async function\n",
    "\n",
    "import asyncio\n",
    "\n",
    "async def do_some_work():\n",
    "    print(\"Starting work\")\n",
    "    await asyncio.sleep(1)\n",
    "    print(\"Work complete\")\n"
   ]
  },
  {
   "cell_type": "code",
   "execution_count": 10,
   "id": "07ab3abf",
   "metadata": {},
   "outputs": [
    {
     "data": {
      "text/plain": [
       "<coroutine object do_some_work at 0x00000169A1403AC0>"
      ]
     },
     "execution_count": 10,
     "metadata": {},
     "output_type": "execute_result"
    }
   ],
   "source": [
    "# What will this do?\n",
    "\n",
    "do_some_work()"
   ]
  },
  {
   "cell_type": "code",
   "execution_count": 11,
   "id": "6d681b6d",
   "metadata": {},
   "outputs": [
    {
     "name": "stdout",
     "output_type": "stream",
     "text": [
      "Starting work\n",
      "Work complete\n"
     ]
    }
   ],
   "source": [
    "# OK let's try that again!\n",
    "\n",
    "await do_some_work()"
   ]
  },
  {
   "cell_type": "code",
   "execution_count": 12,
   "id": "ea867090",
   "metadata": {},
   "outputs": [
    {
     "name": "stderr",
     "output_type": "stream",
     "text": [
      "C:\\Users\\xwaxm\\AppData\\Local\\Temp\\ipykernel_71636\\1833959015.py:4: RuntimeWarning: coroutine 'do_some_work' was never awaited\n",
      "  do_some_work()\n",
      "RuntimeWarning: Enable tracemalloc to get the object allocation traceback\n",
      "C:\\Users\\xwaxm\\AppData\\Local\\Temp\\ipykernel_71636\\1833959015.py:5: RuntimeWarning: coroutine 'do_some_work' was never awaited\n",
      "  do_some_work()\n",
      "RuntimeWarning: Enable tracemalloc to get the object allocation traceback\n",
      "C:\\Users\\xwaxm\\AppData\\Local\\Temp\\ipykernel_71636\\1833959015.py:6: RuntimeWarning: coroutine 'do_some_work' was never awaited\n",
      "  do_some_work()\n",
      "RuntimeWarning: Enable tracemalloc to get the object allocation traceback\n"
     ]
    }
   ],
   "source": [
    "# What's wrong with this?\n",
    "\n",
    "async def do_a_lot_of_work():\n",
    "    do_some_work()\n",
    "    do_some_work()\n",
    "    do_some_work()\n",
    "\n",
    "await do_a_lot_of_work()"
   ]
  },
  {
   "cell_type": "code",
   "execution_count": 13,
   "id": "e9c75c3f",
   "metadata": {},
   "outputs": [
    {
     "name": "stdout",
     "output_type": "stream",
     "text": [
      "Starting work\n",
      "Work complete\n",
      "Starting work\n",
      "Work complete\n",
      "Starting work\n",
      "Work complete\n"
     ]
    }
   ],
   "source": [
    "# Interesting warning! Let's fix it\n",
    "\n",
    "async def do_a_lot_of_work():\n",
    "    await do_some_work()\n",
    "    await do_some_work()\n",
    "    await do_some_work()\n",
    "\n",
    "await do_a_lot_of_work()"
   ]
  },
  {
   "cell_type": "code",
   "execution_count": 14,
   "id": "720cf3f5",
   "metadata": {},
   "outputs": [
    {
     "name": "stdout",
     "output_type": "stream",
     "text": [
      "Starting work\n",
      "Starting work\n",
      "Starting work\n",
      "Work complete\n",
      "Work complete\n",
      "Work complete\n"
     ]
    }
   ],
   "source": [
    "# And now let's do it in parallel\n",
    "# It's important to recognize that this is not \"multi-threading\" in the way that you may be used to\n",
    "# The asyncio library is running on a single thread, but it's using a loop to switch between tasks while one is waiting\n",
    "\n",
    "async def do_a_lot_of_work_in_parallel():\n",
    "    await asyncio.gather(do_some_work(), do_some_work(), do_some_work())\n",
    "\n",
    "await do_a_lot_of_work_in_parallel()"
   ]
  },
  {
   "cell_type": "markdown",
   "id": "230f85de",
   "metadata": {},
   "source": [
    "### Finally - try writing a python module that calls do_a_lot_of_work_in_parallel\n",
    "\n",
    "See the link at the top; you'll need something like this in your module:\n",
    "\n",
    "```python\n",
    "if __name__ == \"__main__\":\n",
    "    asyncio.run(do_a_lot_of_work_in_parallel())\n",
    "```"
   ]
  },
  {
   "cell_type": "markdown",
   "id": "b3ee91db",
   "metadata": {},
   "source": [
    "Added async_module.py to community_contributions directory"
   ]
  },
  {
   "cell_type": "markdown",
   "id": "39f9ddda",
   "metadata": {},
   "source": [
    "### Exercise 1 – Basic Coroutine\n",
    "Write a coroutine that:\n",
    "\n",
    "Takes a name\n",
    "\n",
    "Waits 2 seconds\n",
    "\n",
    "Prints “Hello, [name]!”"
   ]
  },
  {
   "cell_type": "code",
   "execution_count": 17,
   "id": "6c680fd1",
   "metadata": {},
   "outputs": [
    {
     "name": "stdout",
     "output_type": "stream",
     "text": [
      "Hello, John!\n"
     ]
    }
   ],
   "source": [
    "import asyncio\n",
    "\n",
    "async def say_hello(name):\n",
    "    await asyncio.sleep(2)\n",
    "    print(f\"Hello, {name}!\")\n",
    "\n",
    "await say_hello(\"John\")\n",
    "\n"
   ]
  },
  {
   "cell_type": "markdown",
   "id": "6b195080",
   "metadata": {},
   "source": [
    "### Exercise 2 – Parallel Coroutines\n",
    "Write three async functions:\n",
    "\n",
    "fetch_data()\n",
    "\n",
    "process_data()\n",
    "\n",
    "save_data()\n",
    "\n",
    "Each should wait 1 second and return a string. Use asyncio.gather() to run all three."
   ]
  },
  {
   "cell_type": "code",
   "execution_count": 24,
   "id": "fa10e642",
   "metadata": {},
   "outputs": [
    {
     "name": "stdout",
     "output_type": "stream",
     "text": [
      "['Data fetched', 'Data processed', 'Data saved']\n"
     ]
    }
   ],
   "source": [
    "import asyncio\n",
    "\n",
    "async def fetch_data():\n",
    "    await asyncio.sleep(1)\n",
    "    return \"Data fetched\"\n",
    "\n",
    "async def process_data():\n",
    "    await asyncio.sleep(1)\n",
    "    return \"Data processed\"\n",
    "\n",
    "async def save_data():\n",
    "    await asyncio.sleep(1)\n",
    "    return \"Data saved\"\n",
    "\n",
    "result = await asyncio.gather(fetch_data(), process_data(), save_data())\n",
    "print(result)\n"
   ]
  },
  {
   "cell_type": "markdown",
   "id": "223e2c3b",
   "metadata": {},
   "source": [
    "### Exercise 3 – Async Countdown\n",
    "Write a coroutine that counts down from 5 to 1 with a 1-second wait in between each number."
   ]
  },
  {
   "cell_type": "code",
   "execution_count": 25,
   "id": "94b6a993",
   "metadata": {},
   "outputs": [
    {
     "name": "stdout",
     "output_type": "stream",
     "text": [
      "5\n",
      "4\n",
      "3\n",
      "2\n",
      "1\n"
     ]
    }
   ],
   "source": [
    "async def countdown():\n",
    "    for i in range(5, 0, -1):\n",
    "        print(i)\n",
    "        await asyncio.sleep(1)\n",
    "\n",
    "\n",
    "await countdown()"
   ]
  },
  {
   "cell_type": "markdown",
   "id": "615ca39a",
   "metadata": {},
   "source": [
    "### Exercise 4 – Compare Blocking vs Async\n",
    "Run this and compare how long each takes:\n",
    "\n",
    "```python\n",
    "import time\n",
    "\n",
    "def blocking():\n",
    "    time.sleep(1)\n",
    "    print(\"Blocking done\")\n",
    "\n",
    "async def non_blocking():\n",
    "    await asyncio.sleep(1)\n",
    "    print(\"Async done\")\n",
    "```\n",
    "\n",
    "\n",
    "Create a version of both in a loop of 3 iterations. Time them using time.time() and compare."
   ]
  },
  {
   "cell_type": "code",
   "execution_count": 27,
   "id": "bf4ebb52",
   "metadata": {},
   "outputs": [
    {
     "name": "stdout",
     "output_type": "stream",
     "text": [
      "Blocking took 1.0009138584136963 seconds\n",
      "Async took 1.0139784812927246 seconds\n",
      "Blocking took 1.0004937648773193 seconds\n",
      "Async took 1.0125987529754639 seconds\n",
      "Blocking took 1.0006988048553467 seconds\n",
      "Async took 1.0015463829040527 seconds\n"
     ]
    }
   ],
   "source": [
    "import time\n",
    "\n",
    "def blocking():\n",
    "    time_start = time.time()\n",
    "    time.sleep(1)\n",
    "    time_end = time.time()\n",
    "    print(f\"Blocking took {time_end - time_start} seconds\")\n",
    "\n",
    "async def non_blocking():\n",
    "    time_start = time.time()\n",
    "    await asyncio.sleep(1)\n",
    "    time_end = time.time()\n",
    "    print(f\"Async took {time_end - time_start} seconds\")\n",
    "\n",
    "for i in range(3):\n",
    "    blocking()\n",
    "    await non_blocking()\n",
    "    \n",
    "\n",
    "\n"
   ]
  },
  {
   "cell_type": "markdown",
   "id": "5f740ba3",
   "metadata": {},
   "source": [
    "### Exercise 5 – Build a Gradio async app\n",
    "Create a Gradio app that:\n",
    "\n",
    "Takes a name\n",
    "\n",
    "Waits 2 seconds\n",
    "\n",
    "Returns a greeting\n",
    "\n",
    "Try switching the handler between sync and async and measure the difference in responsiveness."
   ]
  },
  {
   "cell_type": "code",
   "execution_count": 29,
   "id": "3b6b153e",
   "metadata": {},
   "outputs": [
    {
     "name": "stdout",
     "output_type": "stream",
     "text": [
      "* Running on local URL:  http://127.0.0.1:7861\n",
      "* To create a public link, set `share=True` in `launch()`.\n"
     ]
    },
    {
     "data": {
      "text/html": [
       "<div><iframe src=\"http://127.0.0.1:7861/\" width=\"100%\" height=\"500\" allow=\"autoplay; camera; microphone; clipboard-read; clipboard-write;\" frameborder=\"0\" allowfullscreen></iframe></div>"
      ],
      "text/plain": [
       "<IPython.core.display.HTML object>"
      ]
     },
     "metadata": {},
     "output_type": "display_data"
    },
    {
     "data": {
      "text/plain": []
     },
     "execution_count": 29,
     "metadata": {},
     "output_type": "execute_result"
    }
   ],
   "source": [
    "import gradio as gr\n",
    "import asyncio\n",
    "\n",
    "async def greet(name):\n",
    "    await asyncio.sleep(2)\n",
    "    return f\"Hello, {name}!\"\n",
    "\n",
    "gr.Interface(fn=greet, inputs=\"text\", outputs=\"text\").launch()\n",
    "\n",
    "\n",
    "\n",
    "\n",
    "\n"
   ]
  }
 ],
 "metadata": {
  "kernelspec": {
   "display_name": ".venv",
   "language": "python",
   "name": "python3"
  },
  "language_info": {
   "codemirror_mode": {
    "name": "ipython",
    "version": 3
   },
   "file_extension": ".py",
   "mimetype": "text/x-python",
   "name": "python",
   "nbconvert_exporter": "python",
   "pygments_lexer": "ipython3",
   "version": "3.12.11"
  }
 },
 "nbformat": 4,
 "nbformat_minor": 5
}
