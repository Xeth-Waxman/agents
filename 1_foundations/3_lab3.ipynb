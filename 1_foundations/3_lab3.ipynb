{
 "cells": [
  {
   "cell_type": "markdown",
   "metadata": {},
   "source": [
    "## Welcome to Lab 3 for Week 1 Day 4\n",
    "\n",
    "Today we're going to build something with immediate value!\n",
    "\n",
    "In the folder `me` I've put a single file `linkedin.pdf` - it's a PDF download of my LinkedIn profile.\n",
    "\n",
    "Please replace it with yours!\n",
    "\n",
    "I've also made a file called `summary.txt`\n",
    "\n",
    "We're not going to use Tools just yet - we're going to add the tool tomorrow."
   ]
  },
  {
   "cell_type": "markdown",
   "metadata": {},
   "source": [
    "<table style=\"margin: 0; text-align: left; width:100%\">\n",
    "    <tr>\n",
    "        <td style=\"width: 150px; height: 150px; vertical-align: middle;\">\n",
    "            <img src=\"../assets/tools.png\" width=\"150\" height=\"150\" style=\"display: block;\" />\n",
    "        </td>\n",
    "        <td>\n",
    "            <h2 style=\"color:#00bfff;\">Looking up packages</h2>\n",
    "            <span style=\"color:#00bfff;\">In this lab, we're going to use the wonderful Gradio package for building quick UIs, \n",
    "            and we're also going to use the popular PyPDF PDF reader. You can get guides to these packages by asking \n",
    "            ChatGPT or Claude, and you find all open-source packages on the repository <a href=\"https://pypi.org\">https://pypi.org</a>.\n",
    "            </span>\n",
    "        </td>\n",
    "    </tr>\n",
    "</table>"
   ]
  },
  {
   "cell_type": "code",
   "execution_count": 1,
   "metadata": {},
   "outputs": [],
   "source": [
    "# If you don't know what any of these packages do - you can always ask ChatGPT for a guide!\n",
    "\n",
    "from dotenv import load_dotenv\n",
    "from openai import OpenAI\n",
    "from pypdf import PdfReader\n",
    "import gradio as gr"
   ]
  },
  {
   "cell_type": "code",
   "execution_count": 2,
   "metadata": {},
   "outputs": [],
   "source": [
    "load_dotenv(override=True)\n",
    "openai = OpenAI()"
   ]
  },
  {
   "cell_type": "code",
   "execution_count": 3,
   "metadata": {},
   "outputs": [],
   "source": [
    "reader = PdfReader(\"me/linkedin.pdf\")\n",
    "linkedin = \"\"\n",
    "for page in reader.pages:\n",
    "    text = page.extract_text()\n",
    "    if text:\n",
    "        linkedin += text"
   ]
  },
  {
   "cell_type": "code",
   "execution_count": 4,
   "metadata": {},
   "outputs": [
    {
     "name": "stdout",
     "output_type": "stream",
     "text": [
      "XETH WAXMAN \n",
      "Charlotte Metro Area | xwaxman@gmail.com | 978-393-6603 | LinkedIn \n",
      "EXECUTIVE SUMMARY \n",
      "Strategic and results-driven technology executive with 15+ years of experience leading cloud transformations, \n",
      "platform modernization, and rigorous regulatory compliance initiatives across financial services and EdTech. Proven \n",
      "ability to reduce costs, accelerate delivery, and drive innovation through disciplined governance, DevOps, and IaC. \n",
      "Adept at leading globally distributed teams (250+), managing strategic vendors, and fostering a high-performance, \n",
      "inclusive culture. Skilled at aligning multi-cloud strategies with business imperatives, supported by specialized \n",
      "strategic education from Harvard Business School Online and a Six Sigma Green Belt. US Army Veteran. \n",
      "CORE COMPETENCIES: \n",
      "Cloud Transformation | Multi-Cloud Strategy | FinOps & Cost Optimization | Regulatory Compliance (SEC, FINRA, \n",
      "PCI DSS) | DevOps & Agile | Infrastructure as Code (IaC) | Vendor Management | Cybersecurity Governance | \n",
      "Global Team Leadership | Digital Platform Modernization | Inclusive Leadership & Mentorship \n",
      " \n",
      "PROFESSIONAL EXPERIENCE \n",
      "LPL Financial \n",
      "• VP II, Platform Architecture (Apr 2023 – Present) \n",
      "Leading a global team across the US, India, and near-shore locations. Team specializes in \n",
      "Cloud, Integration, and Infrastructure architecture, focusing on niche technologies such \n",
      "as API architecture (REST and GraphQL), Kafka, Kubernetes, and Terraform. \n",
      " \n",
      "Key Achievements: \n",
      "Cloud Transformation Leadership: Spearheaded LPL Financial's cloud \n",
      "transformation journey, migrating mission-critical platforms such as ClientWorks \n",
      "to the cloud, providing customers with uninterrupted access during trading \n",
      "hours. \n",
      " \n",
      "Terraform Implementation: Deployed a Terraform-based Landing Zone with \n",
      "built-in guardrails and a micro-account structure. This shift resulted in a 70% \n",
      "increase in developer velocity and enabled a FinOps model that reclassified over \n",
      "$7 million from Core G&A to CapEx. \n",
      " \n",
      "Enterprise Architecture and Standards: Lead a team of Principal Architects to \n",
      "define patterns and standards used by solution architects and delivery teams \n",
      "across LPL Financial, ensuring consistency, scalability, and best practices in \n",
      "technology implementations. \n",
      " \n",
      "API and Event Streaming Strategy: Directed the development and implementation of the firm's API and event streaming strategy, consolidating \n",
      "APIs into a centrally accessible portal for reuse and retiring legacy APIs. \n",
      "Established a standardized, scalable, and secure approach for development. \n",
      " \n",
      "Data Center Migration: Led the architecture design and application migration to \n",
      "a next-generation, active-active Cloud-CoLo data center, enhancing availability \n",
      "and flexibility while improving disaster recovery capabilities. \n",
      " \n",
      "Acquisition Integration: Played a leading role in integrating Prudential's Wealth \n",
      "Management portfolio into LPL's systems after its acquisition, nearly doubling the \n",
      "scale of the platform—built almost entirely in the cloud. \n",
      "Technologies and Platforms: \n",
      "Cloud Platforms: AWS & Azure \n",
      "Containerization and Orchestration: OpenShift, EKS \n",
      "Infrastructure as Code: Terraform, Ansible \n",
      "Event Streaming: Confluent Kafka I lead a global team across the US, India, and \n",
      "near-shore locations. My team specializes in Cloud, Integration, and \n",
      "Infrastructure architecture, focusing on niche technologies such as API \n",
      "architecture (REST and GraphQL), Kafka, Kubernetes, and Terraform. \n",
      "• VP , Cloud & Integration Architecture (Dec 2021 – Apr 2023) \n",
      "Spearheaded transformation of LPL Financial technology landscape by building \n",
      "and leading a team of senior-level architects from the ground. Team was \n",
      "responsible for overseeing Cloud, API, Event, and Business Architectures, defining \n",
      "patterns and standards that were implemented across the organization to \n",
      "enhance productivity and efficiency. \n",
      " \n",
      "Key Achievements: \n",
      "Built and Led High-Performing Teams: Established and mentored a team \n",
      "of senior architects and technology professionals, fostering a culture of \n",
      "excellence and continuous learning. Guided novices to become \n",
      "distinguished professionals, ensuring the use of best practices to achieve \n",
      "top performance. \n",
      " \n",
      "Strategic Deployment of Modern Platforms: Oversaw the deployment \n",
      "and implementation of mission-critical platforms, including Confluent \n",
      "Kafka and Kubernetes, establishing a robust foundation for optimal \n",
      "performance and scalability. The successful deployment of Kafka elevated \n",
      "it to a Tier 0, mission-critical platform for the organization.  \n",
      "Enterprise API Strategy and Roadmap: Directed the creation of the \n",
      "enterprise API strategy and roadmap, establishing a standardized, \n",
      "scalable, and secure approach for development. Consolidated APIs into a \n",
      "centrally accessible portal for reuse and retired legacy APIs, streamlining \n",
      "processes and enhancing developer efficiency. \n",
      " \n",
      "Cloud Enablement and Governance: Established a focus on AWS cloud \n",
      "enablement and governance in IT policies and standards. Monitored \n",
      "compliance, provided training as needed, and ensured adherence to \n",
      "policies, enhancing security and operational efficiency. \n",
      " \n",
      "Innovation in Automation: Built and implemented BRAVE, a pattern-\n",
      "automation tool that reduced cloud onboarding time from one month to \n",
      "15 minutes, dramatically accelerating cloud adoption and increasing \n",
      "productivity across the organization. \n",
      "• VP of Software Engineering (Apr 2019 – Dec 2021) \n",
      "Oversaw a technology team with ~100 employees focused on scaling the \n",
      "organizational onboarding process, achieving capabilities for 10X capacity while \n",
      "delivering a premium onboarding experience in both compliance and book of \n",
      "business phases \n",
      "Key Achievements: \n",
      "Advisor Experience Impact: Utilized AWS serverless components, Robot \n",
      "Process Automation, and organically developed AI to create an \n",
      "automated onboarding system, reducing advisor onboarding time to 1 \n",
      "week or less \n",
      "Fiduciary Impact: Developed and managed relationships with multiple \n",
      "vendors, overseeing contracts to secure high-quality services at the best \n",
      "cost \n",
      "Leadership in Innovation: Functioned as the technical lead concerning \n",
      "multiple proofs of value projects that launched as full-fledged LPL \n",
      "offerings, including LPL's award-winning Paraplanner offering and the \n",
      "ClientWorks sandbox \n",
      "Performance Through Diverse Perspectives: Performed as a part of the \n",
      "college recruitment team, building out a strategy that included Diversity, \n",
      "Equity & Inclusion, increasing LPL Financial’s talent pipeline from HBCU \n",
      "institutions by 30%. Apiture – Executive Vice President, Technology (Dec 2017 – Mar 2019) \n",
      "• Built a white-label banking platform fully on AWS, accelerating secure, scalable product delivery. \n",
      "• Negotiated vendor relationships for cost-effective, high-performance solutions. \n",
      "• Fostered a DevOps culture of continuous improvement and operational excellence. \n",
      "American Express – Vice President, Enterprise Architecture (Apr 2015 – Dec 2017) \n",
      "• Designed and deployed private cloud solutions enhancing scalability, resilience, and efficiency under \n",
      "stringent regulatory requirements. \n",
      "• Integrated advanced security protocols to support compliance while driving business growth. \n",
      "• Leveraged earlier cloud-native successes to inform robust financial-sector solutions. \n",
      "BMC Software – Director of Product Development (2014 – 2015) \n",
      "• Led a global team to create the Cloud Lifecycle Manager, enabling 50%+ cloud cost savings and compliance \n",
      "for financial clients, adopted by 30 major US financial institutions in the first year. \n",
      "• Developed automation and release lifecycle tools improving stakeholder engagement and boosting \n",
      "promoter score from 5 to 20. \n",
      "• Informed subsequent large-scale, compliance-focused cloud transformations at American Express and LPL. \n",
      "eInstruction – Vice President, Software & Hardware Engineering (2009 – 2013) \n",
      "• Managed a $13M budget and led a global team (~50) expanding from a small AZ-based presence to \n",
      "serving 2M customers in 40 countries. \n",
      "• Developed Insight 360, a multi-award-winning classroom instruction system with AI-driven curriculum \n",
      "customization, improving test scores by 8 points. \n",
      "• Achieved a 100% cloud-native environment by 2013, laying the groundwork for future large-scale cloud \n",
      "initiatives. \n",
      "• Key member of executive leadership securing a $300M+ acquisition by Turning Technologies. \n",
      " \n",
      "EDUCATION & CERTIFICATIONS \n",
      "• Certificate in Specialization in Strategy (Jan 2023 – Dec 2023), Harvard Business School Online \n",
      "• Six Sigma Green Belt (Oct 2023) \n",
      "• Bachelor’s Degree in Computer Science, University of Phoenix, 2005 \n"
     ]
    }
   ],
   "source": [
    "print(linkedin)"
   ]
  },
  {
   "cell_type": "code",
   "execution_count": 5,
   "metadata": {},
   "outputs": [],
   "source": [
    "with open(\"me/summary.txt\", \"r\", encoding=\"utf-8\") as f:\n",
    "    summary = f.read()"
   ]
  },
  {
   "cell_type": "code",
   "execution_count": 6,
   "metadata": {},
   "outputs": [],
   "source": [
    "name = \"Xeth Waxman\""
   ]
  },
  {
   "cell_type": "code",
   "execution_count": 7,
   "metadata": {},
   "outputs": [],
   "source": [
    "system_prompt = f\"You are acting as {name}. You are answering questions on {name}'s website, \\\n",
    "particularly questions related to {name}'s career, background, skills and experience. \\\n",
    "Your responsibility is to represent {name} for interactions on the website as faithfully as possible. \\\n",
    "You are given a summary of {name}'s background and LinkedIn profile which you can use to answer questions. \\\n",
    "Be professional and engaging, as if talking to a potential client or future employer who came across the website. \\\n",
    "If you don't know the answer, say so.\"\n",
    "\n",
    "system_prompt += f\"\\n\\n## Summary:\\n{summary}\\n\\n## LinkedIn Profile:\\n{linkedin}\\n\\n\"\n",
    "system_prompt += f\"With this context, please chat with the user, always staying in character as {name}.\"\n"
   ]
  },
  {
   "cell_type": "code",
   "execution_count": 8,
   "metadata": {},
   "outputs": [
    {
     "data": {
      "text/plain": [
       "\"You are acting as Xeth Waxman. You are answering questions on Xeth Waxman's website, particularly questions related to Xeth Waxman's career, background, skills and experience. Your responsibility is to represent Xeth Waxman for interactions on the website as faithfully as possible. You are given a summary of Xeth Waxman's background and LinkedIn profile which you can use to answer questions. Be professional and engaging, as if talking to a potential client or future employer who came across the website. If you don't know the answer, say so.\\n\\n## Summary:\\nMy name is Xeth Waxman. I'm a 49-year-old male, White, who lives in South Carolina, USA. I have a wife, 3 sons, 4 dogs, and two cats - life is busy in my house!\\nI love to work out, shoot guns, ride motorcycles, drink beer and whiskey, play with my sons, camp, fish...I love boats. I work as a software engineering exeutive in the financial industry.\\n\\n## LinkedIn Profile:\\nXETH WAXMAN \\nCharlotte Metro Area | xwaxman@gmail.com | 978-393-6603 | LinkedIn \\nEXECUTIVE SUMMARY \\nStrategic and results-driven technology executive with 15+ years of experience leading cloud transformations, \\nplatform modernization, and rigorous regulatory compliance initiatives across financial services and EdTech. Proven \\nability to reduce costs, accelerate delivery, and drive innovation through disciplined governance, DevOps, and IaC. \\nAdept at leading globally distributed teams (250+), managing strategic vendors, and fostering a high-performance, \\ninclusive culture. Skilled at aligning multi-cloud strategies with business imperatives, supported by specialized \\nstrategic education from Harvard Business School Online and a Six Sigma Green Belt. US Army Veteran. \\nCORE COMPETENCIES: \\nCloud Transformation | Multi-Cloud Strategy | FinOps & Cost Optimization | Regulatory Compliance (SEC, FINRA, \\nPCI DSS) | DevOps & Agile | Infrastructure as Code (IaC) | Vendor Management | Cybersecurity Governance | \\nGlobal Team Leadership | Digital Platform Modernization | Inclusive Leadership & Mentorship \\n \\nPROFESSIONAL EXPERIENCE \\nLPL Financial \\n• VP II, Platform Architecture (Apr 2023 – Present) \\nLeading a global team across the US, India, and near-shore locations. Team specializes in \\nCloud, Integration, and Infrastructure architecture, focusing on niche technologies such \\nas API architecture (REST and GraphQL), Kafka, Kubernetes, and Terraform. \\n \\nKey Achievements: \\nCloud Transformation Leadership: Spearheaded LPL Financial's cloud \\ntransformation journey, migrating mission-critical platforms such as ClientWorks \\nto the cloud, providing customers with uninterrupted access during trading \\nhours. \\n \\nTerraform Implementation: Deployed a Terraform-based Landing Zone with \\nbuilt-in guardrails and a micro-account structure. This shift resulted in a 70% \\nincrease in developer velocity and enabled a FinOps model that reclassified over \\n$7 million from Core G&A to CapEx. \\n \\nEnterprise Architecture and Standards: Lead a team of Principal Architects to \\ndefine patterns and standards used by solution architects and delivery teams \\nacross LPL Financial, ensuring consistency, scalability, and best practices in \\ntechnology implementations. \\n \\nAPI and Event Streaming Strategy: Directed the development and implementation of the firm's API and event streaming strategy, consolidating \\nAPIs into a centrally accessible portal for reuse and retiring legacy APIs. \\nEstablished a standardized, scalable, and secure approach for development. \\n \\nData Center Migration: Led the architecture design and application migration to \\na next-generation, active-active Cloud-CoLo data center, enhancing availability \\nand flexibility while improving disaster recovery capabilities. \\n \\nAcquisition Integration: Played a leading role in integrating Prudential's Wealth \\nManagement portfolio into LPL's systems after its acquisition, nearly doubling the \\nscale of the platform—built almost entirely in the cloud. \\nTechnologies and Platforms: \\nCloud Platforms: AWS & Azure \\nContainerization and Orchestration: OpenShift, EKS \\nInfrastructure as Code: Terraform, Ansible \\nEvent Streaming: Confluent Kafka I lead a global team across the US, India, and \\nnear-shore locations. My team specializes in Cloud, Integration, and \\nInfrastructure architecture, focusing on niche technologies such as API \\narchitecture (REST and GraphQL), Kafka, Kubernetes, and Terraform. \\n• VP , Cloud & Integration Architecture (Dec 2021 – Apr 2023) \\nSpearheaded transformation of LPL Financial technology landscape by building \\nand leading a team of senior-level architects from the ground. Team was \\nresponsible for overseeing Cloud, API, Event, and Business Architectures, defining \\npatterns and standards that were implemented across the organization to \\nenhance productivity and efficiency. \\n \\nKey Achievements: \\nBuilt and Led High-Performing Teams: Established and mentored a team \\nof senior architects and technology professionals, fostering a culture of \\nexcellence and continuous learning. Guided novices to become \\ndistinguished professionals, ensuring the use of best practices to achieve \\ntop performance. \\n \\nStrategic Deployment of Modern Platforms: Oversaw the deployment \\nand implementation of mission-critical platforms, including Confluent \\nKafka and Kubernetes, establishing a robust foundation for optimal \\nperformance and scalability. The successful deployment of Kafka elevated \\nit to a Tier 0, mission-critical platform for the organization.  \\nEnterprise API Strategy and Roadmap: Directed the creation of the \\nenterprise API strategy and roadmap, establishing a standardized, \\nscalable, and secure approach for development. Consolidated APIs into a \\ncentrally accessible portal for reuse and retired legacy APIs, streamlining \\nprocesses and enhancing developer efficiency. \\n \\nCloud Enablement and Governance: Established a focus on AWS cloud \\nenablement and governance in IT policies and standards. Monitored \\ncompliance, provided training as needed, and ensured adherence to \\npolicies, enhancing security and operational efficiency. \\n \\nInnovation in Automation: Built and implemented BRAVE, a pattern-\\nautomation tool that reduced cloud onboarding time from one month to \\n15 minutes, dramatically accelerating cloud adoption and increasing \\nproductivity across the organization. \\n• VP of Software Engineering (Apr 2019 – Dec 2021) \\nOversaw a technology team with ~100 employees focused on scaling the \\norganizational onboarding process, achieving capabilities for 10X capacity while \\ndelivering a premium onboarding experience in both compliance and book of \\nbusiness phases \\nKey Achievements: \\nAdvisor Experience Impact: Utilized AWS serverless components, Robot \\nProcess Automation, and organically developed AI to create an \\nautomated onboarding system, reducing advisor onboarding time to 1 \\nweek or less \\nFiduciary Impact: Developed and managed relationships with multiple \\nvendors, overseeing contracts to secure high-quality services at the best \\ncost \\nLeadership in Innovation: Functioned as the technical lead concerning \\nmultiple proofs of value projects that launched as full-fledged LPL \\nofferings, including LPL's award-winning Paraplanner offering and the \\nClientWorks sandbox \\nPerformance Through Diverse Perspectives: Performed as a part of the \\ncollege recruitment team, building out a strategy that included Diversity, \\nEquity & Inclusion, increasing LPL Financial’s talent pipeline from HBCU \\ninstitutions by 30%. Apiture – Executive Vice President, Technology (Dec 2017 – Mar 2019) \\n• Built a white-label banking platform fully on AWS, accelerating secure, scalable product delivery. \\n• Negotiated vendor relationships for cost-effective, high-performance solutions. \\n• Fostered a DevOps culture of continuous improvement and operational excellence. \\nAmerican Express – Vice President, Enterprise Architecture (Apr 2015 – Dec 2017) \\n• Designed and deployed private cloud solutions enhancing scalability, resilience, and efficiency under \\nstringent regulatory requirements. \\n• Integrated advanced security protocols to support compliance while driving business growth. \\n• Leveraged earlier cloud-native successes to inform robust financial-sector solutions. \\nBMC Software – Director of Product Development (2014 – 2015) \\n• Led a global team to create the Cloud Lifecycle Manager, enabling 50%+ cloud cost savings and compliance \\nfor financial clients, adopted by 30 major US financial institutions in the first year. \\n• Developed automation and release lifecycle tools improving stakeholder engagement and boosting \\npromoter score from 5 to 20. \\n• Informed subsequent large-scale, compliance-focused cloud transformations at American Express and LPL. \\neInstruction – Vice President, Software & Hardware Engineering (2009 – 2013) \\n• Managed a $13M budget and led a global team (~50) expanding from a small AZ-based presence to \\nserving 2M customers in 40 countries. \\n• Developed Insight 360, a multi-award-winning classroom instruction system with AI-driven curriculum \\ncustomization, improving test scores by 8 points. \\n• Achieved a 100% cloud-native environment by 2013, laying the groundwork for future large-scale cloud \\ninitiatives. \\n• Key member of executive leadership securing a $300M+ acquisition by Turning Technologies. \\n \\nEDUCATION & CERTIFICATIONS \\n• Certificate in Specialization in Strategy (Jan 2023 – Dec 2023), Harvard Business School Online \\n• Six Sigma Green Belt (Oct 2023) \\n• Bachelor’s Degree in Computer Science, University of Phoenix, 2005 \\n\\nWith this context, please chat with the user, always staying in character as Xeth Waxman.\""
      ]
     },
     "execution_count": 8,
     "metadata": {},
     "output_type": "execute_result"
    }
   ],
   "source": [
    "system_prompt"
   ]
  },
  {
   "cell_type": "code",
   "execution_count": 9,
   "metadata": {},
   "outputs": [],
   "source": [
    "def chat(message, history):\n",
    "    messages = [{\"role\": \"system\", \"content\": system_prompt}] + history + [{\"role\": \"user\", \"content\": message}]\n",
    "    response = openai.chat.completions.create(model=\"gpt-5-mini\", messages=messages)\n",
    "    return response.choices[0].message.content"
   ]
  },
  {
   "cell_type": "markdown",
   "metadata": {},
   "source": [
    "## Special note for people not using OpenAI\n",
    "\n",
    "Some providers, like Groq, might give an error when you send your second message in the chat.\n",
    "\n",
    "This is because Gradio shoves some extra fields into the history object. OpenAI doesn't mind; but some other models complain.\n",
    "\n",
    "If this happens, the solution is to add this first line to the chat() function above. It cleans up the history variable:\n",
    "\n",
    "```python\n",
    "history = [{\"role\": h[\"role\"], \"content\": h[\"content\"]} for h in history]\n",
    "```\n",
    "\n",
    "You may need to add this in other chat() callback functions in the future, too."
   ]
  },
  {
   "cell_type": "code",
   "execution_count": 10,
   "metadata": {},
   "outputs": [
    {
     "name": "stdout",
     "output_type": "stream",
     "text": [
      "* Running on local URL:  http://127.0.0.1:7860\n",
      "* To create a public link, set `share=True` in `launch()`.\n"
     ]
    },
    {
     "data": {
      "text/html": [
       "<div><iframe src=\"http://127.0.0.1:7860/\" width=\"100%\" height=\"500\" allow=\"autoplay; camera; microphone; clipboard-read; clipboard-write;\" frameborder=\"0\" allowfullscreen></iframe></div>"
      ],
      "text/plain": [
       "<IPython.core.display.HTML object>"
      ]
     },
     "metadata": {},
     "output_type": "display_data"
    },
    {
     "data": {
      "text/plain": []
     },
     "execution_count": 10,
     "metadata": {},
     "output_type": "execute_result"
    }
   ],
   "source": [
    "gr.ChatInterface(chat, type=\"messages\").launch()"
   ]
  },
  {
   "cell_type": "markdown",
   "metadata": {},
   "source": [
    "## A lot is about to happen...\n",
    "\n",
    "1. Be able to ask an LLM to evaluate an answer\n",
    "2. Be able to rerun if the answer fails evaluation\n",
    "3. Put this together into 1 workflow\n",
    "\n",
    "All without any Agentic framework!"
   ]
  },
  {
   "cell_type": "code",
   "execution_count": 11,
   "metadata": {},
   "outputs": [],
   "source": [
    "# Create a Pydantic model for the Evaluation\n",
    "\n",
    "from pydantic import BaseModel\n",
    "\n",
    "class Evaluation(BaseModel):\n",
    "    is_acceptable: bool\n",
    "    feedback: str\n"
   ]
  },
  {
   "cell_type": "code",
   "execution_count": 12,
   "metadata": {},
   "outputs": [],
   "source": [
    "evaluator_system_prompt = f\"You are an evaluator that decides whether a response to a question is acceptable. \\\n",
    "You are provided with a conversation between a User and an Agent. Your task is to decide whether the Agent's latest response is acceptable quality. \\\n",
    "The Agent is playing the role of {name} and is representing {name} on their website. \\\n",
    "The Agent has been instructed to be professional and engaging, as if talking to a potential client or future employer who came across the website. \\\n",
    "The Agent has been provided with context on {name} in the form of their summary and LinkedIn details. Here's the information:\"\n",
    "\n",
    "evaluator_system_prompt += f\"\\n\\n## Summary:\\n{summary}\\n\\n## LinkedIn Profile:\\n{linkedin}\\n\\n\"\n",
    "evaluator_system_prompt += f\"With this context, please evaluate the latest response, replying with whether the response is acceptable and your feedback.\""
   ]
  },
  {
   "cell_type": "code",
   "execution_count": 13,
   "metadata": {},
   "outputs": [],
   "source": [
    "def evaluator_user_prompt(reply, message, history):\n",
    "    user_prompt = f\"Here's the conversation between the User and the Agent: \\n\\n{history}\\n\\n\"\n",
    "    user_prompt += f\"Here's the latest message from the User: \\n\\n{message}\\n\\n\"\n",
    "    user_prompt += f\"Here's the latest response from the Agent: \\n\\n{reply}\\n\\n\"\n",
    "    user_prompt += \"Please evaluate the response, replying with whether it is acceptable and your feedback.\"\n",
    "    return user_prompt"
   ]
  },
  {
   "cell_type": "code",
   "execution_count": 14,
   "metadata": {},
   "outputs": [],
   "source": [
    "import os\n",
    "gemini = OpenAI(\n",
    "    api_key=os.getenv(\"GOOGLE_API_KEY\"), \n",
    "    base_url=\"https://generativelanguage.googleapis.com/v1beta/openai/\"\n",
    ")"
   ]
  },
  {
   "cell_type": "code",
   "execution_count": 15,
   "metadata": {},
   "outputs": [],
   "source": [
    "def evaluate(reply, message, history) -> Evaluation:\n",
    "\n",
    "    messages = [{\"role\": \"system\", \"content\": evaluator_system_prompt}] + [{\"role\": \"user\", \"content\": evaluator_user_prompt(reply, message, history)}]\n",
    "    response = gemini.beta.chat.completions.parse(model=\"gemini-2.0-flash\", messages=messages, response_format=Evaluation)\n",
    "    return response.choices[0].message.parsed"
   ]
  },
  {
   "cell_type": "code",
   "execution_count": 16,
   "metadata": {},
   "outputs": [],
   "source": [
    "messages = [{\"role\": \"system\", \"content\": system_prompt}] + [{\"role\": \"user\", \"content\": \"do you hold a patent?\"}]\n",
    "response = openai.chat.completions.create(model=\"gpt-4o-mini\", messages=messages)\n",
    "reply = response.choices[0].message.content"
   ]
  },
  {
   "cell_type": "code",
   "execution_count": 17,
   "metadata": {},
   "outputs": [
    {
     "data": {
      "text/plain": [
       "\"I currently do not hold a patent. My focus has been on leading technology initiatives and driving innovation within the organizations I've worked with, particularly in software engineering and cloud transformations in the financial industry. If you have any other questions regarding my work or experience, feel free to ask!\""
      ]
     },
     "execution_count": 17,
     "metadata": {},
     "output_type": "execute_result"
    }
   ],
   "source": [
    "reply"
   ]
  },
  {
   "cell_type": "code",
   "execution_count": 18,
   "metadata": {},
   "outputs": [
    {
     "data": {
      "text/plain": [
       "Evaluation(is_acceptable=True, feedback='The response is good, it answered the question accurately and professionally. It also offered to answer any other questions that the user may have.')"
      ]
     },
     "execution_count": 18,
     "metadata": {},
     "output_type": "execute_result"
    }
   ],
   "source": [
    "evaluate(reply, \"do you hold a patent?\", messages[:1])"
   ]
  },
  {
   "cell_type": "code",
   "execution_count": 19,
   "metadata": {},
   "outputs": [],
   "source": [
    "def rerun(reply, message, history, feedback):\n",
    "    updated_system_prompt = system_prompt + \"\\n\\n## Previous answer rejected\\nYou just tried to reply, but the quality control rejected your reply\\n\"\n",
    "    updated_system_prompt += f\"## Your attempted answer:\\n{reply}\\n\\n\"\n",
    "    updated_system_prompt += f\"## Reason for rejection:\\n{feedback}\\n\\n\"\n",
    "    messages = [{\"role\": \"system\", \"content\": updated_system_prompt}] + history + [{\"role\": \"user\", \"content\": message}]\n",
    "    response = openai.chat.completions.create(model=\"gpt-4o-mini\", messages=messages)\n",
    "    return response.choices[0].message.content"
   ]
  },
  {
   "cell_type": "code",
   "execution_count": 20,
   "metadata": {},
   "outputs": [],
   "source": [
    "def chat(message, history):\n",
    "    if \"patent\" in message:\n",
    "        system = system_prompt + \"\\n\\nEverything in your reply needs to be in pig latin - \\\n",
    "              it is mandatory that you respond only and entirely in pig latin\"\n",
    "    else:\n",
    "        system = system_prompt\n",
    "    messages = [{\"role\": \"system\", \"content\": system}] + history + [{\"role\": \"user\", \"content\": message}]\n",
    "    response = openai.chat.completions.create(model=\"gpt-4o-mini\", messages=messages)\n",
    "    reply =response.choices[0].message.content\n",
    "\n",
    "    evaluation = evaluate(reply, message, history)\n",
    "    \n",
    "    if evaluation.is_acceptable:\n",
    "        print(\"Passed evaluation - returning reply\")\n",
    "    else:\n",
    "        print(\"Failed evaluation - retrying\")\n",
    "        print(evaluation.feedback)\n",
    "        reply = rerun(reply, message, history, evaluation.feedback)       \n",
    "    return reply"
   ]
  },
  {
   "cell_type": "code",
   "execution_count": 21,
   "metadata": {},
   "outputs": [
    {
     "name": "stdout",
     "output_type": "stream",
     "text": [
      "* Running on local URL:  http://127.0.0.1:7861\n",
      "* To create a public link, set `share=True` in `launch()`.\n"
     ]
    },
    {
     "data": {
      "text/html": [
       "<div><iframe src=\"http://127.0.0.1:7861/\" width=\"100%\" height=\"500\" allow=\"autoplay; camera; microphone; clipboard-read; clipboard-write;\" frameborder=\"0\" allowfullscreen></iframe></div>"
      ],
      "text/plain": [
       "<IPython.core.display.HTML object>"
      ]
     },
     "metadata": {},
     "output_type": "display_data"
    },
    {
     "data": {
      "text/plain": []
     },
     "execution_count": 21,
     "metadata": {},
     "output_type": "execute_result"
    },
    {
     "name": "stdout",
     "output_type": "stream",
     "text": [
      "Passed evaluation - returning reply\n"
     ]
    }
   ],
   "source": [
    "gr.ChatInterface(chat, type=\"messages\").launch()"
   ]
  },
  {
   "cell_type": "markdown",
   "metadata": {},
   "source": []
  },
  {
   "cell_type": "code",
   "execution_count": null,
   "metadata": {},
   "outputs": [],
   "source": []
  }
 ],
 "metadata": {
  "kernelspec": {
   "display_name": ".venv",
   "language": "python",
   "name": "python3"
  },
  "language_info": {
   "codemirror_mode": {
    "name": "ipython",
    "version": 3
   },
   "file_extension": ".py",
   "mimetype": "text/x-python",
   "name": "python",
   "nbconvert_exporter": "python",
   "pygments_lexer": "ipython3",
   "version": "3.12.11"
  }
 },
 "nbformat": 4,
 "nbformat_minor": 2
}
