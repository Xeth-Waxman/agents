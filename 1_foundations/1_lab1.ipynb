{
 "cells": [
  {
   "cell_type": "markdown",
   "metadata": {},
   "source": [
    "# Welcome to the start of your adventure in Agentic AI"
   ]
  },
  {
   "cell_type": "markdown",
   "metadata": {},
   "source": [
    "<table style=\"margin: 0; text-align: left; width:100%\">\n",
    "    <tr>\n",
    "        <td style=\"width: 150px; height: 150px; vertical-align: middle;\">\n",
    "            <img src=\"../assets/stop.png\" width=\"150\" height=\"150\" style=\"display: block;\" />\n",
    "        </td>\n",
    "        <td>\n",
    "            <h2 style=\"color:#ff7800;\">Are you ready for action??</h2>\n",
    "            <span style=\"color:#ff7800;\">Have you completed all the setup steps in the <a href=\"../setup/\">setup</a> folder?<br/>\n",
    "            Have you read the <a href=\"../README.md\">README</a>? Many common questions are answered here!<br/>\n",
    "            Have you checked out the guides in the <a href=\"../guides/01_intro.ipynb\">guides</a> folder?<br/>\n",
    "            Well in that case, you're ready!!\n",
    "            </span>\n",
    "        </td>\n",
    "    </tr>\n",
    "</table>"
   ]
  },
  {
   "cell_type": "markdown",
   "metadata": {},
   "source": [
    "<table style=\"margin: 0; text-align: left; width:100%\">\n",
    "    <tr>\n",
    "        <td style=\"width: 150px; height: 150px; vertical-align: middle;\">\n",
    "            <img src=\"../assets/tools.png\" width=\"150\" height=\"150\" style=\"display: block;\" />\n",
    "        </td>\n",
    "        <td>\n",
    "            <h2 style=\"color:#00bfff;\">This code is a live resource - keep an eye out for my updates</h2>\n",
    "            <span style=\"color:#00bfff;\">I push updates regularly. As people ask questions or have problems, I add more examples and improve explanations. As a result, the code below might not be identical to the videos, as I've added more steps and better comments. Consider this like an interactive book that accompanies the lectures.<br/><br/>\n",
    "            I try to send emails regularly with important updates related to the course. You can find this in the 'Announcements' section of Udemy in the left sidebar. You can also choose to receive my emails via your Notification Settings in Udemy. I'm respectful of your inbox and always try to add value with my emails!\n",
    "            </span>\n",
    "        </td>\n",
    "    </tr>\n",
    "</table>"
   ]
  },
  {
   "cell_type": "markdown",
   "metadata": {},
   "source": [
    "### And please do remember to contact me if I can help\n",
    "\n",
    "And I love to connect: https://www.linkedin.com/in/eddonner/\n",
    "\n",
    "\n",
    "### New to Notebooks like this one? Head over to the guides folder!\n",
    "\n",
    "Just to check you've already added the Python and Jupyter extensions to Cursor, if not already installed:\n",
    "- Open extensions (View >> extensions)\n",
    "- Search for python, and when the results show, click on the ms-python one, and Install it if not already installed\n",
    "- Search for jupyter, and when the results show, click on the Microsoft one, and Install it if not already installed  \n",
    "Then View >> Explorer to bring back the File Explorer.\n",
    "\n",
    "And then:\n",
    "1. Click where it says \"Select Kernel\" near the top right, and select the option called `.venv (Python 3.12.9)` or similar, which should be the first choice or the most prominent choice. You may need to choose \"Python Environments\" first.\n",
    "2. Click in each \"cell\" below, starting with the cell immediately below this text, and press Shift+Enter to run\n",
    "3. Enjoy!\n",
    "\n",
    "After you click \"Select Kernel\", if there is no option like `.venv (Python 3.12.9)` then please do the following:  \n",
    "1. On Mac: From the Cursor menu, choose Settings >> VS Code Settings (NOTE: be sure to select `VSCode Settings` not `Cursor Settings`);  \n",
    "On Windows PC: From the File menu, choose Preferences >> VS Code Settings(NOTE: be sure to select `VSCode Settings` not `Cursor Settings`)  \n",
    "2. In the Settings search bar, type \"venv\"  \n",
    "3. In the field \"Path to folder with a list of Virtual Environments\" put the path to the project root, like C:\\Users\\username\\projects\\agents (on a Windows PC) or /Users/username/projects/agents (on Mac or Linux).  \n",
    "And then try again.\n",
    "\n",
    "Having problems with missing Python versions in that list? Have you ever used Anaconda before? It might be interferring. Quit Cursor, bring up a new command line, and make sure that your Anaconda environment is deactivated:    \n",
    "`conda deactivate`  \n",
    "And if you still have any problems with conda and python versions, it's possible that you will need to run this too:  \n",
    "`conda config --set auto_activate_base false`  \n",
    "and then from within the Agents directory, you should be able to run `uv python list` and see the Python 3.12 version."
   ]
  },
  {
   "cell_type": "code",
   "execution_count": 12,
   "metadata": {},
   "outputs": [],
   "source": [
    "# First let's do an import. If you get an Import Error, double check that your Kernel is correct..\n",
    "\n",
    "from dotenv import load_dotenv\n"
   ]
  },
  {
   "cell_type": "code",
   "execution_count": 13,
   "metadata": {},
   "outputs": [
    {
     "data": {
      "text/plain": [
       "True"
      ]
     },
     "execution_count": 13,
     "metadata": {},
     "output_type": "execute_result"
    }
   ],
   "source": [
    "# Next it's time to load the API keys into environment variables\n",
    "# If this returns false, see the next cell!\n",
    "\n",
    "load_dotenv(override=True)"
   ]
  },
  {
   "cell_type": "markdown",
   "metadata": {},
   "source": [
    "### Wait, did that just output `False`??\n",
    "\n",
    "If so, the most common reason is that you didn't save your `.env` file after adding the key! Be sure to have saved.\n",
    "\n",
    "Also, make sure the `.env` file is named precisely `.env` and is in the project root directory (`agents`)\n",
    "\n",
    "By the way, your `.env` file should have a stop symbol next to it in Cursor on the left, and that's actually a good thing: that's Cursor saying to you, \"hey, I realize this is a file filled with secret information, and I'm not going to send it to an external AI to suggest changes, because your keys should not be shown to anyone else.\""
   ]
  },
  {
   "cell_type": "markdown",
   "metadata": {},
   "source": [
    "<table style=\"margin: 0; text-align: left; width:100%\">\n",
    "    <tr>\n",
    "        <td style=\"width: 150px; height: 150px; vertical-align: middle;\">\n",
    "            <img src=\"../assets/stop.png\" width=\"150\" height=\"150\" style=\"display: block;\" />\n",
    "        </td>\n",
    "        <td>\n",
    "            <h2 style=\"color:#ff7800;\">Final reminders</h2>\n",
    "            <span style=\"color:#ff7800;\">1. If you're not confident about Environment Variables or Web Endpoints / APIs, please read Topics 3 and 5 in this <a href=\"../guides/04_technical_foundations.ipynb\">technical foundations guide</a>.<br/>\n",
    "            2. If you want to use AIs other than OpenAI, like Gemini, DeepSeek or Ollama (free), please see the first section in this <a href=\"../guides/09_ai_apis_and_ollama.ipynb\">AI APIs guide</a>.<br/>\n",
    "            3. If you ever get a Name Error in Python, you can always fix it immediately; see the last section of this <a href=\"../guides/06_python_foundations.ipynb\">Python Foundations guide</a> and follow both tutorials and exercises.<br/>\n",
    "            </span>\n",
    "        </td>\n",
    "    </tr>\n",
    "</table>"
   ]
  },
  {
   "cell_type": "code",
   "execution_count": 14,
   "metadata": {},
   "outputs": [
    {
     "name": "stdout",
     "output_type": "stream",
     "text": [
      "OpenAI API Key exists and begins sk-proj-\n"
     ]
    }
   ],
   "source": [
    "# Check the key - if you're not using OpenAI, check whichever key you're using! Ollama doesn't need a key.\n",
    "\n",
    "import os\n",
    "openai_api_key = os.getenv('OPENAI_API_KEY')\n",
    "\n",
    "if openai_api_key:\n",
    "    print(f\"OpenAI API Key exists and begins {openai_api_key[:8]}\")\n",
    "else:\n",
    "    print(\"OpenAI API Key not set - please head to the troubleshooting guide in the setup folder\")\n",
    "    \n"
   ]
  },
  {
   "cell_type": "code",
   "execution_count": 15,
   "metadata": {},
   "outputs": [],
   "source": [
    "# And now - the all important import statement\n",
    "# If you get an import error - head over to troubleshooting in the Setup folder\n",
    "# Even for other LLM providers like Gemini, you still use this OpenAI import - see Guide 9 for why\n",
    "\n",
    "from openai import OpenAI"
   ]
  },
  {
   "cell_type": "code",
   "execution_count": 16,
   "metadata": {},
   "outputs": [],
   "source": [
    "# And now we'll create an instance of the OpenAI class\n",
    "# If you're not sure what it means to create an instance of a class - head over to the guides folder (guide 6)!\n",
    "# If you get a NameError - head over to the guides folder (guide 6)to learn about NameErrors - always instantly fixable\n",
    "# If you're not using OpenAI, you just need to slightly modify this - precise instructions are in the AI APIs guide (guide 9)\n",
    "\n",
    "openai = OpenAI()"
   ]
  },
  {
   "cell_type": "code",
   "execution_count": 17,
   "metadata": {},
   "outputs": [],
   "source": [
    "# Create a list of messages in the familiar OpenAI format\n",
    "\n",
    "messages = [{\"role\": \"user\", \"content\": \"What is 2+2?\"}]"
   ]
  },
  {
   "cell_type": "code",
   "execution_count": 18,
   "metadata": {},
   "outputs": [
    {
     "name": "stdout",
     "output_type": "stream",
     "text": [
      "2 + 2 equals 4.\n"
     ]
    }
   ],
   "source": [
    "# And now call it! Any problems, head to the troubleshooting guide\n",
    "# This uses GPT 4.1 nano, the incredibly cheap model\n",
    "# The APIs guide (guide 9) has exact instructions for using even cheaper or free alternatives to OpenAI\n",
    "# If you get a NameError, head to the guides folder (guide 6) to learn about NameErrors - always instantly fixable\n",
    "\n",
    "response = openai.chat.completions.create(\n",
    "    model=\"gpt-4.1-nano\",\n",
    "    messages=messages\n",
    ")\n",
    "\n",
    "print(response.choices[0].message.content)\n"
   ]
  },
  {
   "cell_type": "code",
   "execution_count": 19,
   "metadata": {},
   "outputs": [],
   "source": [
    "# And now - let's ask for a question:\n",
    "\n",
    "question = \"Please propose a hard, challenging question to assess someone's IQ. Respond only with the question.\"\n",
    "messages = [{\"role\": \"user\", \"content\": question}]\n"
   ]
  },
  {
   "cell_type": "code",
   "execution_count": 20,
   "metadata": {},
   "outputs": [
    {
     "name": "stdout",
     "output_type": "stream",
     "text": [
      "If it takes 5 machines 5 minutes to make 5 widgets, how long would it take 100 machines to make 100 widgets?\n"
     ]
    }
   ],
   "source": [
    "# ask it - this uses GPT 4.1 mini, still cheap but more powerful than nano\n",
    "\n",
    "response = openai.chat.completions.create(\n",
    "    model=\"gpt-4.1-mini\",\n",
    "    messages=messages\n",
    ")\n",
    "\n",
    "question = response.choices[0].message.content\n",
    "\n",
    "print(question)\n"
   ]
  },
  {
   "cell_type": "code",
   "execution_count": 21,
   "metadata": {},
   "outputs": [],
   "source": [
    "# form a new messages list\n",
    "messages = [{\"role\": \"user\", \"content\": question}]\n"
   ]
  },
  {
   "cell_type": "code",
   "execution_count": 22,
   "metadata": {},
   "outputs": [
    {
     "name": "stdout",
     "output_type": "stream",
     "text": [
      "Let's analyze the problem step-by-step:\n",
      "\n",
      "- Given: 5 machines take 5 minutes to make 5 widgets.\n",
      "- We need to find: How long do 100 machines take to make 100 widgets?\n",
      "\n",
      "**Step 1: Determine the rate of one machine**\n",
      "\n",
      "If 5 machines make 5 widgets in 5 minutes, then:\n",
      "\n",
      "- Total widgets made: 5\n",
      "- Total machines: 5\n",
      "- Total time: 5 minutes\n",
      "\n",
      "The total production rate of 5 machines is:\n",
      "\n",
      "\\[\n",
      "\\frac{5 \\text{ widgets}}{5 \\text{ minutes}} = 1 \\text{ widget per minute (combined rate)}\n",
      "\\]\n",
      "\n",
      "Therefore, the production rate per machine is:\n",
      "\n",
      "\\[\n",
      "\\frac{1 \\text{ widget per minute}}{5 \\text{ machines}} = \\frac{1}{5} \\text{ widget per minute per machine}\n",
      "\\]\n",
      "\n",
      "**Step 2: Calculate how long 100 machines take to produce 100 widgets**\n",
      "\n",
      "- Production rate of 100 machines:\n",
      "\n",
      "\\[\n",
      "100 \\times \\frac{1}{5} = 20 \\text{ widgets per minute}\n",
      "\\]\n",
      "\n",
      "- Time needed to make 100 widgets at this rate:\n",
      "\n",
      "\\[\n",
      "\\frac{100 \\text{ widgets}}{20 \\text{ widgets per minute}} = 5 \\text{ minutes}\n",
      "\\]\n",
      "\n",
      "**Answer:**\n",
      "\n",
      "It would take **5 minutes** for 100 machines to make 100 widgets.\n"
     ]
    }
   ],
   "source": [
    "# Ask it again\n",
    "\n",
    "response = openai.chat.completions.create(\n",
    "    model=\"gpt-4.1-mini\",\n",
    "    messages=messages\n",
    ")\n",
    "\n",
    "answer = response.choices[0].message.content\n",
    "print(answer)\n"
   ]
  },
  {
   "cell_type": "code",
   "execution_count": 23,
   "metadata": {},
   "outputs": [
    {
     "data": {
      "text/markdown": [
       "Let's analyze the problem step-by-step:\n",
       "\n",
       "- Given: 5 machines take 5 minutes to make 5 widgets.\n",
       "- We need to find: How long do 100 machines take to make 100 widgets?\n",
       "\n",
       "**Step 1: Determine the rate of one machine**\n",
       "\n",
       "If 5 machines make 5 widgets in 5 minutes, then:\n",
       "\n",
       "- Total widgets made: 5\n",
       "- Total machines: 5\n",
       "- Total time: 5 minutes\n",
       "\n",
       "The total production rate of 5 machines is:\n",
       "\n",
       "\\[\n",
       "\\frac{5 \\text{ widgets}}{5 \\text{ minutes}} = 1 \\text{ widget per minute (combined rate)}\n",
       "\\]\n",
       "\n",
       "Therefore, the production rate per machine is:\n",
       "\n",
       "\\[\n",
       "\\frac{1 \\text{ widget per minute}}{5 \\text{ machines}} = \\frac{1}{5} \\text{ widget per minute per machine}\n",
       "\\]\n",
       "\n",
       "**Step 2: Calculate how long 100 machines take to produce 100 widgets**\n",
       "\n",
       "- Production rate of 100 machines:\n",
       "\n",
       "\\[\n",
       "100 \\times \\frac{1}{5} = 20 \\text{ widgets per minute}\n",
       "\\]\n",
       "\n",
       "- Time needed to make 100 widgets at this rate:\n",
       "\n",
       "\\[\n",
       "\\frac{100 \\text{ widgets}}{20 \\text{ widgets per minute}} = 5 \\text{ minutes}\n",
       "\\]\n",
       "\n",
       "**Answer:**\n",
       "\n",
       "It would take **5 minutes** for 100 machines to make 100 widgets."
      ],
      "text/plain": [
       "<IPython.core.display.Markdown object>"
      ]
     },
     "metadata": {},
     "output_type": "display_data"
    }
   ],
   "source": [
    "from IPython.display import Markdown, display\n",
    "\n",
    "display(Markdown(answer))\n",
    "\n"
   ]
  },
  {
   "cell_type": "markdown",
   "metadata": {},
   "source": [
    "# Congratulations!\n",
    "\n",
    "That was a small, simple step in the direction of Agentic AI, with your new environment!\n",
    "\n",
    "Next time things get more interesting..."
   ]
  },
  {
   "cell_type": "markdown",
   "metadata": {},
   "source": [
    "<table style=\"margin: 0; text-align: left; width:100%\">\n",
    "    <tr>\n",
    "        <td style=\"width: 150px; height: 150px; vertical-align: middle;\">\n",
    "            <img src=\"../assets/exercise.png\" width=\"150\" height=\"150\" style=\"display: block;\" />\n",
    "        </td>\n",
    "        <td>\n",
    "            <h2 style=\"color:#ff7800;\">Exercise</h2>\n",
    "            <span style=\"color:#ff7800;\">Now try this commercial application:<br/>\n",
    "            First ask the LLM to pick a business area that might be worth exploring for an Agentic AI opportunity.<br/>\n",
    "            Then ask the LLM to present a pain-point in that industry - something challenging that might be ripe for an Agentic solution.<br/>\n",
    "            Finally have 3 third LLM call propose the Agentic AI solution. <br/>\n",
    "            We will cover this at up-coming labs, so don't worry if you're unsure.. just give it a try!\n",
    "            </span>\n",
    "        </td>\n",
    "    </tr>\n",
    "</table>"
   ]
  },
  {
   "cell_type": "code",
   "execution_count": 27,
   "metadata": {},
   "outputs": [
    {
     "name": "stdout",
     "output_type": "stream",
     "text": [
      "Certainly! Here’s an idea for a side-hustle business leveraging Agentic AI capabilities:\n",
      "\n",
      "**AI-Powered Personal Productivity and Life Optimization Coach**\n",
      "\n",
      "### Concept:\n",
      "Create an AI-driven personal assistant that goes beyond basic scheduling and reminders. This Agentic AI actively manages and optimizes your client’s daily routines, goals, and habits by autonomously suggesting and implementing adjustments based on real-time data and personal priorities.\n",
      "\n",
      "### How it Works:\n",
      "- **Autonomous Task Management:** The AI monitors deadlines, calendar events, energy levels (via wearables integration), and workload to dynamically reorder tasks, suggest breaks, or delegate minor tasks (e.g., booking appointments).\n",
      "- **Goal Tracking and Habit Formation:** It sets micro-goals, tracks progress, and adjusts plans to ensure accountability, using behavior change models.\n",
      "- **Decision Support:** Provides actionable recommendations — like when to network, when to ramp up skill-building, or when to focus on rest — by analyzing patterns in productivity, mood, and external factors (weather, news).\n",
      "- **Integration with Tools:** Connects with existing productivity tools (Trello, Notion, Google Calendar) and smart devices.\n",
      "- **Personalized Insights:** Delivers weekly or monthly “life performance” reports and highlights opportunities for improvement.\n",
      "\n",
      "### Why it’s agentic:\n",
      "The AI doesn’t just wait for commands but anticipates needs and takes proactive actions within defined boundaries, cultivating better habits and outcomes without constant user input.\n",
      "\n",
      "### Revenue Model:\n",
      "- Subscription-based SaaS tailored for busy professionals, freelancers, and entrepreneurs.\n",
      "- Upsell deeper coaching sessions with human experts supported by AI analytics.\n",
      "- Affiliate partnerships with wellness, education, and productivity apps.\n",
      "\n",
      "### Steps to Explore:\n",
      "- Build a prototype using existing AI APIs (like OpenAI for NLP, scheduling APIs).\n",
      "- Conduct user research to identify high-value features.\n",
      "- Launch a pilot with a small user base for feedback and iteration.\n",
      "\n",
      "Would you like suggestions on tech stacks or marketing approaches for such a venture?\n",
      "Great question! The productivity and life optimization space is crowded with apps and tools, but many suffer from common pain points and fragmentation—this is where Agentic AI can shine as a true differentiator. Here are key opportunities and pain points, along with how Agentic AI can uniquely address them:\n",
      "\n",
      "---\n",
      "\n",
      "### 1. **Pain Point: Fragmented Tools and Manual Overhead**\n",
      "\n",
      "- **Challenge:** Users juggle multiple tools (calendars, to-do lists, habit trackers, wellness apps) and spend mental energy syncing and updating them manually.\n",
      "- **Agentic AI Advantage:** The AI acts as a centralized autonomous orchestrator that monitors and interacts with all these apps in real time, reducing cognitive load by proactively syncing, reprioritizing, and managing tasks without user intervention. This bridges siloed data for holistic life and productivity optimization.\n",
      "\n",
      "---\n",
      "\n",
      "### 2. **Pain Point: Lack of Personalized, Context-Aware Support**\n",
      "\n",
      "- **Challenge:** Existing productivity apps provide static reminders or rules-based suggestions that don’t dynamically adapt to a user’s evolving context (e.g., energy levels, mood, external conditions).\n",
      "- **Agentic AI Advantage:** By integrating real-time sensor data (wearables for energy/mood), environmental signals (weather, news), and usage patterns, the AI can autonomously tailor recommendations and task sequences. This context awareness leads to smarter decisions, like suggesting rest when energy is low or skill-building when motivation peaks.\n",
      "\n",
      "---\n",
      "\n",
      "### 3. **Pain Point: Limited Proactivity and Over-Reliance on User Input**\n",
      "\n",
      "- **Challenge:** Most current solutions are reactive—they wait for users to input data or adjust schedules themselves.\n",
      "- **Agentic AI Advantage:** Embodying agentic behavior, the AI anticipates needs and takes initiative within prescribed limits—for example, rescheduling meetings around focus blocks or booking wellness sessions when stress markers rise—thus minimizing user effort and increasing compliance with positive behaviors.\n",
      "\n",
      "---\n",
      "\n",
      "### 4. **Pain Point: Poor Habit Formation and Behavioral Change Support**\n",
      "\n",
      "- **Challenge:** Many users struggle to form good habits due to lack of timely feedback, adaptive goal-setting, and motivation.\n",
      "- **Agentic AI Advantage:** The AI uses behavior change techniques (e.g., micro-goals, nudges, rewards) informed by ongoing tracking to continuously adjust habit formation strategies, increasing chances of sustained improvement. It can autonomously tweak difficulty and strategies based on success/failure patterns without waiting for user input.\n",
      "\n",
      "---\n",
      "\n",
      "### 5. **Pain Point: Inadequate Decision Support and Prioritization**\n",
      "\n",
      "- **Challenge:** Users face difficulty in prioritizing tasks effectively, often succumbing to distractions or burnout.\n",
      "- **Agentic AI Advantage:** By analyzing productivity metrics, mood, deadlines, and external variables, the AI can proactively reorder priorities, suggest optimal work/rest cycles, and highlight critical tasks that align with goals—all autonomously taking action to enforce these priorities where possible.\n",
      "\n",
      "---\n",
      "\n",
      "### 6. **Pain Point: Generic and Low-Value Reporting**\n",
      "\n",
      "- **Challenge:** Many apps provide broad, generic progress reports that don’t translate easily into actionable insights.\n",
      "- **Agentic AI Advantage:** Leveraging AI analysis, the system generates personalized “life performance” reports filled with specific, actionable recommendations and predictive insights. It may even preemptively suggest course corrections or new habits before problems emerge.\n",
      "\n",
      "---\n",
      "\n",
      "### Summary  \n",
      "| Challenge                                 | Agentic AI Solution                                     | Unique Differentiator               |\n",
      "|-------------------------------------------|--------------------------------------------------------|----------------------------------|\n",
      "| Tool fragmentation / manual overhead      | Centralized autonomous orchestration & integration     | Seamless multi-app synergy without user micromanagement |\n",
      "| Lack of personalized, adaptive support    | Context-aware real-time adjustments                      | Dynamic behavior tuned to real-world conditions |\n",
      "| Reactive, user-driven systems               | Proactive anticipation & autonomous interventions       | Agentic autonomy reduces user workload |\n",
      "| Difficulty sustaining habits                | AI-driven adaptive habit coaching & nudging             | Continuous optimization without needing human coach |\n",
      "| Poor task prioritization & burnout risk      | Intelligent reprioritization & decision support          | Real-time optimization balancing performance & wellbeing |\n",
      "| Generic progress feedback                      | Personalized, actionable life insights & predictive alerts | Data-driven foresight guiding behavior change |\n",
      "\n",
      "---\n",
      "\n",
      "If you want, I can also suggest how to prioritize feature development or target specific user segments that would most appreciate these agentic capabilities! Would that be helpful?\n"
     ]
    }
   ],
   "source": [
    "# First create the messages:\n",
    "\n",
    "messages = [{\"role\": \"user\", \"content\": \"Give me an idea for a side-hustle business worth exploring for an Agentic AI opportunity\"}]\n",
    "\n",
    "# Then make the first call:\n",
    "\n",
    "response = openai.chat.completions.create(\n",
    "    model=\"gpt-4.1-mini\",\n",
    "    messages=messages\n",
    ")\n",
    "\n",
    "# Then read the business idea:\n",
    "\n",
    "business_idea = response.choices[0].message.content\n",
    "print(business_idea)\n",
    "\n",
    "# And repeat! In the next message, include the business idea within the message\n",
    "follow_up_question = f\"\"\"Based on this business idea: {business_idea}\n",
    "\n",
    "What are some opportunities or pain points in this industry where Agentic AI can serve as a differentiator? \n",
    "Please identify specific challenges and explain how Agentic AI could provide unique advantages.\"\"\"\n",
    "\n",
    "messages = [{\"role\": \"user\", \"content\": follow_up_question}]\n",
    "\n",
    "response = openai.chat.completions.create(\n",
    "    model=\"gpt-4.1-mini\",\n",
    "    messages=messages\n",
    ")\n",
    "\n",
    "pain_points = response.choices[0].message.content\n",
    "print(pain_points)\n"
   ]
  },
  {
   "cell_type": "markdown",
   "metadata": {},
   "source": []
  }
 ],
 "metadata": {
  "kernelspec": {
   "display_name": ".venv",
   "language": "python",
   "name": "python3"
  },
  "language_info": {
   "codemirror_mode": {
    "name": "ipython",
    "version": 3
   },
   "file_extension": ".py",
   "mimetype": "text/x-python",
   "name": "python",
   "nbconvert_exporter": "python",
   "pygments_lexer": "ipython3",
   "version": "3.12.11"
  }
 },
 "nbformat": 4,
 "nbformat_minor": 2
}
